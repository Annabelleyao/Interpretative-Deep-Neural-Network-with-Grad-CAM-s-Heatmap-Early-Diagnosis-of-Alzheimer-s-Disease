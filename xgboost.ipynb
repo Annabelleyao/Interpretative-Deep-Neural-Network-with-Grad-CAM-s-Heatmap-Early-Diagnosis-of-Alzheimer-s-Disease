{
 "cells": [
  {
   "cell_type": "code",
   "execution_count": null,
   "metadata": {},
   "outputs": [
    {
     "name": "stdout",
     "output_type": "stream",
     "text": [
      "Requirement already satisfied: seaborn in /Users/annabelleyao/opt/anaconda3/envs/jpnbenv/lib/python3.11/site-packages (0.12.2)\n",
      "Requirement already satisfied: numpy!=1.24.0,>=1.17 in /Users/annabelleyao/opt/anaconda3/envs/jpnbenv/lib/python3.11/site-packages (from seaborn) (1.24.3)\n",
      "Requirement already satisfied: pandas>=0.25 in /Users/annabelleyao/opt/anaconda3/envs/jpnbenv/lib/python3.11/site-packages (from seaborn) (2.0.1)\n",
      "Requirement already satisfied: matplotlib!=3.6.1,>=3.1 in /Users/annabelleyao/opt/anaconda3/envs/jpnbenv/lib/python3.11/site-packages (from seaborn) (3.7.1)\n",
      "Requirement already satisfied: contourpy>=1.0.1 in /Users/annabelleyao/opt/anaconda3/envs/jpnbenv/lib/python3.11/site-packages (from matplotlib!=3.6.1,>=3.1->seaborn) (1.0.7)\n",
      "Requirement already satisfied: cycler>=0.10 in /Users/annabelleyao/opt/anaconda3/envs/jpnbenv/lib/python3.11/site-packages (from matplotlib!=3.6.1,>=3.1->seaborn) (0.11.0)\n",
      "Requirement already satisfied: fonttools>=4.22.0 in /Users/annabelleyao/opt/anaconda3/envs/jpnbenv/lib/python3.11/site-packages (from matplotlib!=3.6.1,>=3.1->seaborn) (4.39.4)\n",
      "Requirement already satisfied: kiwisolver>=1.0.1 in /Users/annabelleyao/opt/anaconda3/envs/jpnbenv/lib/python3.11/site-packages (from matplotlib!=3.6.1,>=3.1->seaborn) (1.4.4)\n",
      "Requirement already satisfied: packaging>=20.0 in /Users/annabelleyao/opt/anaconda3/envs/jpnbenv/lib/python3.11/site-packages (from matplotlib!=3.6.1,>=3.1->seaborn) (23.0)\n",
      "Requirement already satisfied: pillow>=6.2.0 in /Users/annabelleyao/opt/anaconda3/envs/jpnbenv/lib/python3.11/site-packages (from matplotlib!=3.6.1,>=3.1->seaborn) (9.4.0)\n",
      "Requirement already satisfied: pyparsing>=2.3.1 in /Users/annabelleyao/opt/anaconda3/envs/jpnbenv/lib/python3.11/site-packages (from matplotlib!=3.6.1,>=3.1->seaborn) (3.0.9)\n",
      "Requirement already satisfied: python-dateutil>=2.7 in /Users/annabelleyao/opt/anaconda3/envs/jpnbenv/lib/python3.11/site-packages (from matplotlib!=3.6.1,>=3.1->seaborn) (2.8.2)\n",
      "Requirement already satisfied: pytz>=2020.1 in /Users/annabelleyao/opt/anaconda3/envs/jpnbenv/lib/python3.11/site-packages (from pandas>=0.25->seaborn) (2023.3)\n",
      "Requirement already satisfied: tzdata>=2022.1 in /Users/annabelleyao/opt/anaconda3/envs/jpnbenv/lib/python3.11/site-packages (from pandas>=0.25->seaborn) (2023.3)\n",
      "Requirement already satisfied: six>=1.5 in /Users/annabelleyao/opt/anaconda3/envs/jpnbenv/lib/python3.11/site-packages (from python-dateutil>=2.7->matplotlib!=3.6.1,>=3.1->seaborn) (1.16.0)\n",
      "Note: you may need to restart the kernel to use updated packages.\n",
      "Requirement already satisfied: matplotlib in /Users/annabelleyao/opt/anaconda3/envs/jpnbenv/lib/python3.11/site-packages (3.7.1)\n",
      "Requirement already satisfied: contourpy>=1.0.1 in /Users/annabelleyao/opt/anaconda3/envs/jpnbenv/lib/python3.11/site-packages (from matplotlib) (1.0.7)\n",
      "Requirement already satisfied: cycler>=0.10 in /Users/annabelleyao/opt/anaconda3/envs/jpnbenv/lib/python3.11/site-packages (from matplotlib) (0.11.0)\n",
      "Requirement already satisfied: fonttools>=4.22.0 in /Users/annabelleyao/opt/anaconda3/envs/jpnbenv/lib/python3.11/site-packages (from matplotlib) (4.39.4)\n",
      "Requirement already satisfied: kiwisolver>=1.0.1 in /Users/annabelleyao/opt/anaconda3/envs/jpnbenv/lib/python3.11/site-packages (from matplotlib) (1.4.4)\n",
      "Requirement already satisfied: numpy>=1.20 in /Users/annabelleyao/opt/anaconda3/envs/jpnbenv/lib/python3.11/site-packages (from matplotlib) (1.24.3)\n",
      "Requirement already satisfied: packaging>=20.0 in /Users/annabelleyao/opt/anaconda3/envs/jpnbenv/lib/python3.11/site-packages (from matplotlib) (23.0)\n",
      "Requirement already satisfied: pillow>=6.2.0 in /Users/annabelleyao/opt/anaconda3/envs/jpnbenv/lib/python3.11/site-packages (from matplotlib) (9.4.0)\n",
      "Requirement already satisfied: pyparsing>=2.3.1 in /Users/annabelleyao/opt/anaconda3/envs/jpnbenv/lib/python3.11/site-packages (from matplotlib) (3.0.9)\n",
      "Requirement already satisfied: python-dateutil>=2.7 in /Users/annabelleyao/opt/anaconda3/envs/jpnbenv/lib/python3.11/site-packages (from matplotlib) (2.8.2)\n",
      "Requirement already satisfied: six>=1.5 in /Users/annabelleyao/opt/anaconda3/envs/jpnbenv/lib/python3.11/site-packages (from python-dateutil>=2.7->matplotlib) (1.16.0)\n",
      "Note: you may need to restart the kernel to use updated packages.\n",
      "Requirement already satisfied: xgboost in /Users/annabelleyao/opt/anaconda3/envs/jpnbenv/lib/python3.11/site-packages (1.7.6)\n",
      "Requirement already satisfied: numpy in /Users/annabelleyao/opt/anaconda3/envs/jpnbenv/lib/python3.11/site-packages (from xgboost) (1.24.3)\n",
      "Requirement already satisfied: scipy in /Users/annabelleyao/opt/anaconda3/envs/jpnbenv/lib/python3.11/site-packages (from xgboost) (1.10.1)\n",
      "Note: you may need to restart the kernel to use updated packages.\n"
     ]
    }
   ],
   "source": [
    "%pip install seaborn\n",
    "%pip install matplotlib\n",
    "%pip install xgboost\n"
   ]
  },
  {
   "cell_type": "code",
   "execution_count": 1,
   "metadata": {},
   "outputs": [
    {
     "name": "stdout",
     "output_type": "stream",
     "text": [
      "Intel MKL WARNING: Support of Intel(R) Streaming SIMD Extensions 4.2 (Intel(R) SSE4.2) enabled only processors has been deprecated. Intel oneAPI Math Kernel Library 2025.0 will require Intel(R) Advanced Vector Extensions (Intel(R) AVX) instructions.\n",
      "Intel MKL WARNING: Support of Intel(R) Streaming SIMD Extensions 4.2 (Intel(R) SSE4.2) enabled only processors has been deprecated. Intel oneAPI Math Kernel Library 2025.0 will require Intel(R) Advanced Vector Extensions (Intel(R) AVX) instructions.\n"
     ]
    }
   ],
   "source": [
    "import pandas as pd\n",
    "import os\n",
    "from skimage.transform import resize\n",
    "from skimage.io import imread\n",
    "import numpy as np\n",
    "import matplotlib.pyplot as plt\n",
    "from sklearn import svm\n",
    "from sklearn.model_selection import GridSearchCV\n",
    "from sklearn.model_selection import train_test_split\n",
    "from sklearn.metrics import accuracy_score\n",
    "from sklearn.metrics import classification_report\n",
    "from sklearn import datasets\n",
    "from sklearn import metrics\n",
    "from sklearn.model_selection import train_test_split\n",
    "import matplotlib.pyplot as plt\n",
    "import seaborn as sns\n",
    "plt.style.use(\"ggplot\")\n",
    "import xgboost as xgb"
   ]
  },
  {
   "cell_type": "code",
   "execution_count": 2,
   "metadata": {},
   "outputs": [
    {
     "name": "stdout",
     "output_type": "stream",
     "text": [
      "loading... category : Mild_Demented\n",
      "loaded category:Mild_Demented successfully\n",
      "loading... category : Moderate_Demented\n",
      "loaded category:Moderate_Demented successfully\n",
      "loading... category : Very_Mild_Demented\n",
      "loaded category:Very_Mild_Demented successfully\n",
      "loading... category : Non_Demented\n",
      "loaded category:Non_Demented successfully\n"
     ]
    }
   ],
   "source": [
    "Categories=['Mild_Demented','Moderate_Demented','Very_Mild_Demented','Non_Demented']\n",
    "flat_data_arr=[] #input array\n",
    "target_arr=[] #output array\n",
    "datadir='/Users/annabelleyao/Desktop/MRIdataset'\n",
    "#path which contains all the categories of images\n",
    "for i in Categories:\n",
    "\tprint(f'loading... category : {i}')\n",
    "\tpath=os.path.join(datadir,i)\n",
    "\tfor img in os.listdir(path):\n",
    "\t\timg_array=imread(os.path.join(path,img))\n",
    "\t\timg_resized=resize(img_array,(224,224,3))\n",
    "\t\timg_resized = np.transpose(img_resized, (2, 0, 1))\n",
    "\t\tflat_data_arr.append(img_resized.flatten())\n",
    "\t\ttarget_arr.append(Categories.index(i))\n",
    "\tprint(f'loaded category:{i} successfully')\n",
    "flat_data=np.array(flat_data_arr)\n",
    "target=np.array(target_arr)\n"
   ]
  },
  {
   "cell_type": "code",
   "execution_count": 14,
   "metadata": {},
   "outputs": [
    {
     "data": {
      "text/plain": [
       "(6400, 150529)"
      ]
     },
     "execution_count": 14,
     "metadata": {},
     "output_type": "execute_result"
    }
   ],
   "source": [
    "#dataframe\n",
    "df=pd.DataFrame(flat_data)\n",
    "df['Target']=target\n",
    "df.shape\n"
   ]
  },
  {
   "cell_type": "code",
   "execution_count": 15,
   "metadata": {},
   "outputs": [],
   "source": [
    "#input data\n",
    "x=df.iloc[:,:-1]\n",
    "#output data\n",
    "y=df.iloc[:,-1]\n"
   ]
  },
  {
   "cell_type": "code",
   "execution_count": 16,
   "metadata": {},
   "outputs": [
    {
     "name": "stdout",
     "output_type": "stream",
     "text": [
      "Training data: (5120, 150528)\n",
      "Testing data: (1280, 150528)\n"
     ]
    }
   ],
   "source": [
    "# Splitting the data into training and testing sets\n",
    "# x_train,x_test,y_train,y_test=train_test_split(x,y,test_size=0.20,shuffle = False)\n",
    "import numpy as np\n",
    "\n",
    "# Suppose X is your data and y are your labels\n",
    "\n",
    "# And these are your predefined indices for training and testing\n",
    "with open(\"/Users/annabelleyao/Desktop/train_indices.txt\", \"r\") as f:\n",
    "    train_indices = [int(idx.strip()) for idx in f.readlines()]\n",
    "with open(\"/Users/annabelleyao/Desktop/test_indices.txt\", \"r\") as f:\n",
    "    test_indices = [int(idx.strip()) for idx in f.readlines()]\n",
    "\n",
    "# You can use these indices to split your data\n",
    "x_train, y_train = x.iloc[train_indices], y.iloc[train_indices]\n",
    "x_test, y_test = x.iloc[test_indices], y.iloc[test_indices]\n",
    "\n",
    "print(\"Training data:\", x_train.shape)\n",
    "# print(\"Training labels:\", y_train[:10])\n",
    "print(\"Testing data:\", x_test.shape)\n",
    "# print(\"Testing labels:\", y_test)"
   ]
  },
  {
   "cell_type": "code",
   "execution_count": 17,
   "metadata": {},
   "outputs": [
    {
     "name": "stdout",
     "output_type": "stream",
     "text": [
      "Accuracy: 0.98203125\n"
     ]
    }
   ],
   "source": [
    "# Defining the parameters grid for GridSearchCV\n",
    "param_grid={'C':[0.1,1,10],\n",
    "\t\t\t'gamma':[0.1],\n",
    "\t\t\t'kernel':['rbf']}\n",
    "\n",
    "# Creating a support vector classifier\n",
    "xgb_classifier = xgb.XGBClassifier(objective='multi:softmax', num_class=3)\n",
    "\n",
    "# Fit the classifier on the training data\n",
    "xgb_classifier.fit(x_train, y_train)\n",
    "\n",
    "# Make predictions on the test data\n",
    "y_pred = xgb_classifier.predict(x_test)\n",
    "\n",
    "# Calculate accuracy on the test data\n",
    "accuracy = accuracy_score(y_test, y_pred)\n",
    "\n",
    "# Print the accuracy\n",
    "print(\"Accuracy:\", accuracy)\n"
   ]
  },
  {
   "cell_type": "code",
   "execution_count": 18,
   "metadata": {},
   "outputs": [
    {
     "name": "stdout",
     "output_type": "stream",
     "text": [
      "                    precision    recall  f1-score   support\n",
      "\n",
      "     Mild_Demented       1.00      0.96      0.98       204\n",
      " Moderate_Demented       1.00      0.83      0.91        12\n",
      "Very_Mild_Demented       0.97      0.98      0.98       430\n",
      "      Non_Demented       0.98      0.99      0.99       634\n",
      "\n",
      "          accuracy                           0.98      1280\n",
      "         macro avg       0.99      0.94      0.96      1280\n",
      "      weighted avg       0.98      0.98      0.98      1280\n",
      "\n"
     ]
    }
   ],
   "source": [
    "print(classification_report(y_test, y_pred, target_names=['Mild_Demented','Moderate_Demented','Very_Mild_Demented','Non_Demented']))\n",
    "from sklearn.preprocessing import OneHotEncoder\n",
    "import numpy as np\n",
    "from sklearn.metrics import roc_auc_score, classification_report, auc, recall_score, precision_score, precision_recall_curve\n",
    "\n",
    "# probabilities = model.predict_proba(x_test)\n"
   ]
  },
  {
   "cell_type": "code",
   "execution_count": 21,
   "metadata": {},
   "outputs": [
    {
     "name": "stdout",
     "output_type": "stream",
     "text": [
      "Average ROC AUC Score: 0.9990408141217063\n"
     ]
    }
   ],
   "source": [
    "probabilities = xgb_classifier.predict_proba(x_test)\n",
    "# Calculate the ROC AUC score for each class\n",
    "roc_auc_scores = []\n",
    "for class_idx in range(probabilities.shape[1]):\n",
    "    class_true_labels = (y_test == class_idx).astype(int)\n",
    "    class_predicted_probs = probabilities[:, class_idx]\n",
    "    roc_auc = roc_auc_score(class_true_labels, class_predicted_probs)\n",
    "    roc_auc_scores.append(roc_auc)\n",
    "\n",
    "# Calculate the average ROC AUC score\n",
    "avg_roc_auc = np.mean(roc_auc_scores)\n",
    "\n",
    "# Print the average ROC AUC score\n",
    "print(\"Average ROC AUC Score:\", avg_roc_auc)"
   ]
  },
  {
   "cell_type": "code",
   "execution_count": 20,
   "metadata": {},
   "outputs": [],
   "source": [
    "# path='/Users/annabelleyao/Desktop/MRIdataset'\n",
    "# img=imread(path)\n",
    "# plt.imshow(img)\n",
    "# plt.show()\n",
    "# img_resize=resize(img,(150,150,3))\n",
    "# l=[img_resize.flatten()]\n",
    "# probability=model.predict_proba(l)\n",
    "# for ind,val in enumerate(Categories):\n",
    "# \tprint(f'{val} = {probability[0][ind]*100}%')\n",
    "# print(\"The predicted image is : \"+Categories[model.predict(l)[0]])\n"
   ]
  },
  {
   "cell_type": "code",
   "execution_count": null,
   "metadata": {},
   "outputs": [],
   "source": []
  }
 ],
 "metadata": {
  "kernelspec": {
   "display_name": "jpnbenv",
   "language": "python",
   "name": "python3"
  },
  "language_info": {
   "codemirror_mode": {
    "name": "ipython",
    "version": 3
   },
   "file_extension": ".py",
   "mimetype": "text/x-python",
   "name": "python",
   "nbconvert_exporter": "python",
   "pygments_lexer": "ipython3",
   "version": "3.11.3"
  },
  "orig_nbformat": 4
 },
 "nbformat": 4,
 "nbformat_minor": 2
}
